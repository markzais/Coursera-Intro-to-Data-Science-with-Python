{
 "cells": [
  {
   "cell_type": "markdown",
   "metadata": {},
   "source": [
    "---\n",
    "\n",
    "_You are currently looking at **version 1.1** of this notebook. To download notebooks and datafiles, as well as get help on Jupyter notebooks in the Coursera platform, visit the [Jupyter Notebook FAQ](https://www.coursera.org/learn/python-data-analysis/resources/0dhYG) course resource._\n",
    "\n",
    "---"
   ]
  },
  {
   "cell_type": "code",
   "execution_count": null,
   "metadata": {},
   "outputs": [],
   "source": [
    "import pandas as pd\n",
    "import numpy as np\n",
    "from scipy.stats import ttest_ind"
   ]
  },
  {
   "cell_type": "markdown",
   "metadata": {},
   "source": [
    "# Assignment 4 - Hypothesis Testing\n",
    "This assignment requires more individual learning than previous assignments - you are encouraged to check out the [pandas documentation](http://pandas.pydata.org/pandas-docs/stable/) to find functions or methods you might not have used yet, or ask questions on [Stack Overflow](http://stackoverflow.com/) and tag them as pandas and python related. And of course, the discussion forums are open for interaction with your peers and the course staff.\n",
    "\n",
    "Definitions:\n",
    "* A _quarter_ is a specific three month period, Q1 is January through March, Q2 is April through June, Q3 is July through September, Q4 is October through December.\n",
    "* A _recession_ is defined as starting with two consecutive quarters of GDP decline, and ending with two consecutive quarters of GDP growth.\n",
    "* A _recession bottom_ is the quarter within a recession which had the lowest GDP.\n",
    "* A _university town_ is a city which has a high percentage of university students compared to the total population of the city.\n",
    "\n",
    "**Hypothesis**: University towns have their mean housing prices less effected by recessions. Run a t-test to compare the ratio of the mean price of houses in university towns the quarter before the recession starts compared to the recession bottom. (`price_ratio=quarter_before_recession/recession_bottom`)\n",
    "\n",
    "The following data files are available for this assignment:\n",
    "* From the [Zillow research data site](http://www.zillow.com/research/data/) there is housing data for the United States. In particular the datafile for [all homes at a city level](http://files.zillowstatic.com/research/public/City/City_Zhvi_AllHomes.csv), ```City_Zhvi_AllHomes.csv```, has median home sale prices at a fine grained level.\n",
    "* From the Wikipedia page on college towns is a list of [university towns in the United States](https://en.wikipedia.org/wiki/List_of_college_towns#College_towns_in_the_United_States) which has been copy and pasted into the file ```university_towns.txt```.\n",
    "* From Bureau of Economic Analysis, US Department of Commerce, the [GDP over time](http://www.bea.gov/national/index.htm#gdp) of the United States in current dollars (use the chained value in 2009 dollars), in quarterly intervals, in the file ```gdplev.xls```. For this assignment, only look at GDP data from the first quarter of 2000 onward.\n",
    "\n",
    "Each function in this assignment below is worth 10%, with the exception of ```run_ttest()```, which is worth 50%."
   ]
  },
  {
   "cell_type": "code",
   "execution_count": null,
   "metadata": {},
   "outputs": [],
   "source": [
    "# Use this dictionary to map state names to two letter acronyms\n",
    "states = {'OH': 'Ohio', 'KY': 'Kentucky', 'AS': 'American Samoa', 'NV': 'Nevada', 'WY': 'Wyoming', 'NA': 'National', 'AL': 'Alabama', 'MD': 'Maryland', 'AK': 'Alaska', 'UT': 'Utah', 'OR': 'Oregon', 'MT': 'Montana', 'IL': 'Illinois', 'TN': 'Tennessee', 'DC': 'District of Columbia', 'VT': 'Vermont', 'ID': 'Idaho', 'AR': 'Arkansas', 'ME': 'Maine', 'WA': 'Washington', 'HI': 'Hawaii', 'WI': 'Wisconsin', 'MI': 'Michigan', 'IN': 'Indiana', 'NJ': 'New Jersey', 'AZ': 'Arizona', 'GU': 'Guam', 'MS': 'Mississippi', 'PR': 'Puerto Rico', 'NC': 'North Carolina', 'TX': 'Texas', 'SD': 'South Dakota', 'MP': 'Northern Mariana Islands', 'IA': 'Iowa', 'MO': 'Missouri', 'CT': 'Connecticut', 'WV': 'West Virginia', 'SC': 'South Carolina', 'LA': 'Louisiana', 'KS': 'Kansas', 'NY': 'New York', 'NE': 'Nebraska', 'OK': 'Oklahoma', 'FL': 'Florida', 'CA': 'California', 'CO': 'Colorado', 'PA': 'Pennsylvania', 'DE': 'Delaware', 'NM': 'New Mexico', 'RI': 'Rhode Island', 'MN': 'Minnesota', 'VI': 'Virgin Islands', 'NH': 'New Hampshire', 'MA': 'Massachusetts', 'GA': 'Georgia', 'ND': 'North Dakota', 'VA': 'Virginia'}"
   ]
  },
  {
   "cell_type": "code",
   "execution_count": null,
   "metadata": {
    "umich_part_id": "021",
    "umich_partlist_id": "004"
   },
   "outputs": [],
   "source": [
    "def get_list_of_university_towns():\n",
    "    '''Returns a DataFrame of towns and the states they are in from the \n",
    "    university_towns.txt list. The format of the DataFrame should be:\n",
    "    DataFrame( [ [\"Michigan\", \"Ann Arbor\"], [\"Michigan\", \"Yipsilanti\"] ], \n",
    "    columns=[\"State\", \"RegionName\"]  )\n",
    "    \n",
    "    The following cleaning needs to be done:\n",
    "\n",
    "    1. For \"State\", removing characters from \"[\" to the end.\n",
    "    2. For \"RegionName\", when applicable, removing every character from \" (\" to the end.\n",
    "    3. Depending on how you read the data, you may need to remove newline character '\\n'. '''\n",
    "    with open('university_towns.txt') as f:\n",
    "        data = []\n",
    "        for text in f:\n",
    "            data.append(text[:-1])\n",
    "\n",
    "    state_town = []\n",
    "    for text in data:\n",
    "        if text[-6:] == '[edit]':\n",
    "            state = text[:-6]\n",
    "        elif '(' in text:\n",
    "            town = text[:(text.index('(')-1)]\n",
    "            state_town.append([state,town])\n",
    "        else:\n",
    "            town = text.rstrip()\n",
    "            state_town.append([state,town])\n",
    "    table = pd.DataFrame(state_town, columns = ['State','RegionName']) \n",
    "    return table\n",
    "get_list_of_university_towns()"
   ]
  },
  {
   "cell_type": "code",
   "execution_count": null,
   "metadata": {
    "umich_part_id": "022",
    "umich_partlist_id": "004"
   },
   "outputs": [],
   "source": [
    "def get_recession_start():\n",
    "    '''Returns the year and quarter of the recession start time as a \n",
    "    string value in a format such as 2005q3'''\n",
    "    df = pd.read_excel('gdplev.xls', skiprows = 7)\n",
    "    #Keep fourth (Quarter) and sixth (GDP in billions) columns\n",
    "    df = df[['Unnamed: 4','Unnamed: 6']]\n",
    "    df.columns = ['Quarter','GDP']\n",
    "    # Remove rows prior to 2000q1\n",
    "    df = df.iloc[212:]\n",
    "    #Creat new index \n",
    "    df = df.reset_index()\n",
    "    #Remove old index column\n",
    "    df = df[['Quarter','GDP']]\n",
    "    #Create a list that compares quarters \n",
    "    start = []\n",
    "    for i in range(len(df) - 4):\n",
    "        if ((df.iloc[i][1] > df.iloc[i+1][1]) & (df.iloc[i+1][1] > df.iloc[i+2][1])):\n",
    "            start.append(df.iloc[i][0])\n",
    "    # Keep the first number in the list\n",
    "    start = start[0]\n",
    "    \n",
    "    return start\n",
    "get_recession_start()"
   ]
  },
  {
   "cell_type": "code",
   "execution_count": null,
   "metadata": {
    "umich_part_id": "023",
    "umich_partlist_id": "004"
   },
   "outputs": [],
   "source": [
    "def get_recession_end():\n",
    "    df = pd.read_excel('gdplev.xls', skiprows = 7)\n",
    "    #Keep fourth (Quarter) and sixth (GDP in billions) columns\n",
    "    df = df[['Unnamed: 4','Unnamed: 6']]\n",
    "    df.columns = ['Quarter','GDP']\n",
    "    # Remove rows prior to 2000q1\n",
    "    df = df.iloc[212:]\n",
    "    #Create new index \n",
    "    df = df.reset_index()\n",
    "    #Remove old index column\n",
    "    df = df[['Quarter','GDP']]\n",
    "    #Create a list that compares quarters \n",
    "    end = []\n",
    "    for i in range(len(df) - 4):\n",
    "        if ((df.iloc[i][1] > df.iloc[i+1][1]) & (df.iloc[i+1][1] > df.iloc[i+2][1]) & \n",
    "            (df.iloc[i+2][1] < df.iloc[i+3][1]) & (df.iloc[i+3][1] < df.iloc[i+4][1])):\n",
    "            end.append([df.iloc[i][0],df.iloc[i+1][0],df.iloc[i+2][0],df.iloc[i+3][0],df.iloc[i+4][0]])\n",
    "    end = end[0][4]\n",
    "    \n",
    "    return end\n",
    "get_recession_end()"
   ]
  },
  {
   "cell_type": "code",
   "execution_count": null,
   "metadata": {
    "umich_part_id": "024",
    "umich_partlist_id": "004"
   },
   "outputs": [],
   "source": [
    "def get_recession_bottom():\n",
    "    '''Returns the year and quarter of the recession bottom time as a \n",
    "    string value in a format such as 2005q3'''\n",
    "    df = pd.read_excel('gdplev.xls', skiprows = 7)\n",
    "    #Keep fourth (Quarter) and sixth (GDP in billions) columns\n",
    "    df = df[['Unnamed: 4','Unnamed: 6']]\n",
    "    df.columns = ['Quarter','GDP']\n",
    "    # Remove rows prior to 2000q1\n",
    "    df = df.iloc[212:]\n",
    "    #Create new index \n",
    "    df = df.reset_index()\n",
    "    #Remove old index column\n",
    "    df = df[['Quarter','GDP']]\n",
    "    \n",
    "    bottom = []\n",
    "    for i in range(len(df) - 4):\n",
    "        if ((df.iloc[i][1] > df.iloc[i+1][1]) & (df.iloc[i+1][1] > df.iloc[i+2][1]) & \n",
    "            (df.iloc[i+2][1] < df.iloc[i+3][1]) & (df.iloc[i+3][1] < df.iloc[i+4][1])):\n",
    "            bottom.append([df.iloc[i][0],df.iloc[i+1][0],df.iloc[i+2][0],df.iloc[i+3][0],df.iloc[i+4][0]])\n",
    "    bottom = bottom[0][2]\n",
    "    \n",
    "    return bottom\n",
    "    \n",
    "get_recession_bottom()"
   ]
  },
  {
   "cell_type": "code",
   "execution_count": null,
   "metadata": {
    "umich_part_id": "025",
    "umich_partlist_id": "004"
   },
   "outputs": [],
   "source": [
    "def convert_housing_data_to_quarters():\n",
    "    '''Converts the housing data to quarters and returns it as mean \n",
    "    values in a dataframe. This dataframe should be a dataframe with\n",
    "    columns for 2000q1 through 2016q3, and should have a multi-index\n",
    "    in the shape of [\"State\",\"RegionName\"].\n",
    "    \n",
    "    Note: Quarters are defined in the assignment description, they are\n",
    "    not arbitrary three month periods.\n",
    "    \n",
    "    The resulting dataframe should have 67 columns, and 10,730 rows.\n",
    "    '''\n",
    "    \n",
    "    housing_data = pd.read_csv('City_Zhvi_AllHomes.csv')\n",
    "    # Drop RegionID and 1996-04 thru 1999-12  \n",
    "    housing_data = housing_data.drop(housing_data.columns[[0] + list(range(3,51))], axis=1)\n",
    "    # Create a new dataframe with just State and RegionName\n",
    "    state_region = pd.DataFrame(housing_data[['State', 'RegionName']])\n",
    "    # For each year (2000 thru 2015), calulate mean of the three months in each quarter; add column for each\n",
    "    for year in range(2000, 2015):\n",
    "        state_region[str(year) + 'q1'] = housing_data[[str(year) + '-01', str(year) + '-02', str(year) + '-03']].mean(axis = 1)\n",
    "        state_region[str(year) + 'q2'] = housing_data[[str(year) + '-04', str(year) + '-05', str(year) + '-06']].mean(axis = 1)\n",
    "        state_region[str(year) + 'q3'] = housing_data[[str(year) + '-07', str(year) + '-08', str(year) + '-09']].mean(axis = 1)\n",
    "        state_region[str(year) + 'q4'] = housing_data[[str(year) + '-10', str(year) + '-11', str(year) + '-12']].mean(axis = 1)\n",
    "    # Need to add 2016 separately sinc ethere aren't four quarters of data\n",
    "    year = 2016\n",
    "    state_region[str(year) + 'q1'] = housing_data[[str(year) + '-01', str(year) + '-02', str(year) + '-03']].mean(axis = 1)\n",
    "    state_region[str(year) + 'q2'] = housing_data[[str(year) + '-04', str(year) + '-05', str(year) + '-06']].mean(axis = 1)\n",
    "    state_region[str(year) + 'q3'] = housing_data[[str(year) + '-07', str(year) + '-08']].mean(axis = 1)\n",
    "    # Replace state names in the states dictonary and replace the abbreviation in 'State'\n",
    "    state_region = state_region.replace({'State':states})\n",
    "    # Make State and RegionName the index\n",
    "    state_region = state_region.set_index(['State', 'RegionName'])\n",
    "    ans = pd.DataFrame(state_region)\n",
    "    return ans\n",
    "convert_housing_data_to_quarters()"
   ]
  },
  {
   "cell_type": "code",
   "execution_count": null,
   "metadata": {
    "umich_part_id": "026",
    "umich_partlist_id": "004"
   },
   "outputs": [],
   "source": [
    "def run_ttest():\n",
    "    '''First creates new data showing the decline or growth of housing prices\n",
    "    between the recession start and the recession bottom. Then runs a ttest\n",
    "    comparing the university town values to the non-university towns values, \n",
    "    return whether the alternative hypothesis (that the two groups are the same)\n",
    "    is true or not as well as the p-value of the confidence. \n",
    "    \n",
    "    Return the tuple (different, p, better) where different=True if the t-test is\n",
    "    True at a p<0.01 (we reject the null hypothesis), or different=False if \n",
    "    otherwise (we cannot reject the null hypothesis). The variable p should\n",
    "    be equal to the exact p value returned from scipy.stats.ttest_ind(). The\n",
    "    value for better should be either \"university town\" or \"non-university town\"\n",
    "    depending on which has a lower mean price ratio (which is equivilent to a\n",
    "    reduced market loss).'''\n",
    "    \n",
    "    university_towns = get_list_of_university_towns()\n",
    "    bottom = get_recession_bottom()\n",
    "    start = get_recession_start()\n",
    "    housing = convert_housing_data_to_quarters()\n",
    "    # Lookup the quarter (i.e. column name) previous to \"start\" quarter\n",
    "    bottom_start = housing.columns[housing.columns.get_loc(start) -1]\n",
    "    # Create new column that calculates the difference between recession bottom and start for each location \n",
    "    housing['diff'] = housing[bottom] - housing[bottom_start]\n",
    "    # Keep the Recession start, bottom and difference columns\n",
    "    housing = housing[[bottom_start,bottom, 'diff']]\n",
    "    # Reset index\n",
    "    housing = housing.reset_index()\n",
    "    # Merge housing data with list of university towns\n",
    "    university_housing = pd.merge(housing,university_towns,how='inner',on=['State','RegionName'])\n",
    "    # Create new column that identifies university towns\n",
    "    university_housing['university'] = True\n",
    "    # Merge the full housing data with university-town housing data\n",
    "    housing_all = pd.merge(housing,university_housing,how='outer',on=['State','RegionName',bottom,bottom_start,'diff'])\n",
    "    # Replace all \"na\" with \"False\"\n",
    "    housing_all['university'] = housing_all['university'].fillna(False)\n",
    "    # Separate university and nonuniversity data\n",
    "    university_data = housing_all[housing_all['university'] == True]\n",
    "    nonuniversity_data = housing_all[housing_all['university'] == False]\n",
    "    # Perform t-test\n",
    "    t,p = ttest_ind(university_data['diff'].dropna(),nonuniversity_data['diff'].dropna())\n",
    "    # If p-value is less  than 0.01, then the hypothesis that there is a difference is true\n",
    "    hypothesis = True if p < 0.01 else False\n",
    "    # Which type is better?  Return the name of the type with the highest mean\n",
    "    better = \"non-university town\" if university_data['diff'].mean() < nonuniversity_data['diff'].mean() else \"university town\"\n",
    "\n",
    "    return(hypothesis, p, better)\n",
    " \n",
    "\n",
    "run_ttest()"
   ]
  },
  {
   "cell_type": "code",
   "execution_count": null,
   "metadata": {},
   "outputs": [],
   "source": []
  }
 ],
 "metadata": {
  "coursera": {
   "course_slug": "python-data-analysis",
   "graded_item_id": "Il9Fx",
   "launcher_item_id": "TeDW0",
   "part_id": "WGlun"
  },
  "kernelspec": {
   "display_name": "Python 3",
   "language": "python",
   "name": "python3"
  },
  "language_info": {
   "codemirror_mode": {
    "name": "ipython",
    "version": 3
   },
   "file_extension": ".py",
   "mimetype": "text/x-python",
   "name": "python",
   "nbconvert_exporter": "python",
   "pygments_lexer": "ipython3",
   "version": "3.6.4"
  },
  "umich": {
   "id": "Assignment 4",
   "version": "1.1"
  }
 },
 "nbformat": 4,
 "nbformat_minor": 1
}
